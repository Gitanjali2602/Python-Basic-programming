{
 "cells": [
  {
   "cell_type": "markdown",
   "metadata": {},
   "source": [
    "# Programming_Assingment6"
   ]
  },
  {
   "cell_type": "markdown",
   "metadata": {},
   "source": [
    "1.\tWrite a Python Program to Display Fibonacci Sequence Using Recursion?"
   ]
  },
  {
   "cell_type": "code",
   "execution_count": 53,
   "metadata": {},
   "outputs": [
    {
     "name": "stdout",
     "output_type": "stream",
     "text": [
      "enter a number to print fibonacci sequence5\n",
      "0\n",
      "1\n",
      "1\n",
      "2\n",
      "3\n"
     ]
    }
   ],
   "source": [
    "def fibonacci(Number):\n",
    "    if Number <= 1:\n",
    "        return Number\n",
    "    else:\n",
    "        return (fibonacci(Number-1)+ fibonacci(Number -2))\n",
    "\n",
    "Number = int(input('enter a number to print fibonacci sequence'))\n",
    "if Number <0:\n",
    "        print('Please enter Positive Number')\n",
    "else:\n",
    "    for i in range(Number):\n",
    "        print(fibonacci(i))     \n",
    "# referance : https://www.javatpoint.com/python-display-fibonacci-sequence-recursion"
   ]
  },
  {
   "cell_type": "markdown",
   "metadata": {},
   "source": [
    " 2.\tWrite a Python Program to Find Factorial of Number Using Recursion?"
   ]
  },
  {
   "cell_type": "code",
   "execution_count": 54,
   "metadata": {},
   "outputs": [
    {
     "name": "stdout",
     "output_type": "stream",
     "text": [
      "enter a number to print Factorial5\n",
      "120\n"
     ]
    }
   ],
   "source": [
    "def Factorial(Number):\n",
    "    if Number == 1:\n",
    "        return Number\n",
    "    else:\n",
    "        return (Number * Factorial(Number-1))\n",
    "\n",
    "Number = int(input('enter a number to print Factorial'))\n",
    "if Number <0:\n",
    "    print('Please enter Positive Number')\n",
    "elif Number == 0:\n",
    "    print ('Factor of 0 is 1')\n",
    "else: \n",
    "    print(Factorial(Number))"
   ]
  },
  {
   "cell_type": "markdown",
   "metadata": {},
   "source": [
    "3.\tWrite a Python Program to calculate your Body Mass Index?"
   ]
  },
  {
   "cell_type": "code",
   "execution_count": 55,
   "metadata": {},
   "outputs": [
    {
     "name": "stdout",
     "output_type": "stream",
     "text": [
      "enter your weight in kg60\n",
      "enter your height in m2.3\n",
      "your BMI is  11.342155009451798\n"
     ]
    }
   ],
   "source": [
    "import math\n",
    "\n",
    "weight = float (input('enter your weight in kg'))\n",
    "height = float (input('enter your height in m'))\n",
    "print ('your BMI is ',weight  /math.pow (height,2))"
   ]
  },
  {
   "cell_type": "markdown",
   "metadata": {},
   "source": [
    "4.\tWrite a Python Program to calculate the natural logarithm of any number?"
   ]
  },
  {
   "cell_type": "code",
   "execution_count": 56,
   "metadata": {},
   "outputs": [
    {
     "name": "stdout",
     "output_type": "stream",
     "text": [
      "enter the numer to calculate natural log20\n",
      "Natural log for 20.0 is 2.995732273553991\n"
     ]
    }
   ],
   "source": [
    "import math\n",
    "number = float (input('enter the numer to calculate natural log'))\n",
    "print ('Natural log for {0} is {1}'.format(number,math.log(number)))"
   ]
  },
  {
   "cell_type": "markdown",
   "metadata": {},
   "source": [
    "5.\tWrite a Python Program for cube sum of first n natural numbers?"
   ]
  },
  {
   "cell_type": "code",
   "execution_count": 57,
   "metadata": {},
   "outputs": [
    {
     "name": "stdout",
     "output_type": "stream",
     "text": [
      "enter number5\n",
      "225\n"
     ]
    }
   ],
   "source": [
    "Number= (int(input('enter number')))\n",
    "sum=0\n",
    "for i in range(1,Number+1):\n",
    "    sum  = sum +(i*i*i)\n",
    "print(sum)"
   ]
  },
  {
   "cell_type": "code",
   "execution_count": null,
   "metadata": {},
   "outputs": [],
   "source": []
  }
 ],
 "metadata": {
  "kernelspec": {
   "display_name": "Python 3",
   "language": "python",
   "name": "python3"
  },
  "language_info": {
   "codemirror_mode": {
    "name": "ipython",
    "version": 3
   },
   "file_extension": ".py",
   "mimetype": "text/x-python",
   "name": "python",
   "nbconvert_exporter": "python",
   "pygments_lexer": "ipython3",
   "version": "3.6.5"
  }
 },
 "nbformat": 4,
 "nbformat_minor": 2
}
