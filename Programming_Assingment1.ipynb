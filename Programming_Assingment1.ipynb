{
 "cells": [
  {
   "cell_type": "markdown",
   "metadata": {},
   "source": [
    "# Programming_Assingment1 "
   ]
  },
  {
   "cell_type": "markdown",
   "metadata": {},
   "source": [
    "Created By- Gitanjali\n",
    "Date - 19.05.2021"
   ]
  },
  {
   "cell_type": "markdown",
   "metadata": {},
   "source": [
    "1.\tWrite a Python program to print \"Hello Python\"?"
   ]
  },
  {
   "cell_type": "code",
   "execution_count": 1,
   "metadata": {},
   "outputs": [
    {
     "name": "stdout",
     "output_type": "stream",
     "text": [
      "Hello Python\n"
     ]
    }
   ],
   "source": [
    "print ('Hello Python')"
   ]
  },
  {
   "cell_type": "markdown",
   "metadata": {},
   "source": [
    "2.\tWrite a Python program to do arithmetical operations addition and division.?"
   ]
  },
  {
   "cell_type": "code",
   "execution_count": 3,
   "metadata": {},
   "outputs": [
    {
     "name": "stdout",
     "output_type": "stream",
     "text": [
      "enter first number12\n",
      "enter second number23\n",
      "addition of 12 and 23 is 35\n",
      "division of 12 and 23 is 0.5217391304347826\n"
     ]
    }
   ],
   "source": [
    "a= int(input('enter first number'))\n",
    "b= int(input('enter second number'))\n",
    "print(\"addition of\",a,\"and\",b,\"is\",a+b)\n",
    "if b!=0:\n",
    "    print(\"division of\",a,\"and\",b,\"is\",a/b)\n",
    "else:\n",
    "    print(\"division is equal to infinite\")"
   ]
  },
  {
   "cell_type": "markdown",
   "metadata": {},
   "source": [
    "3.\tWrite a Python program to find the area of a triangle?"
   ]
  },
  {
   "cell_type": "code",
   "execution_count": 4,
   "metadata": {
    "scrolled": true
   },
   "outputs": [
    {
     "name": "stdout",
     "output_type": "stream",
     "text": [
      "Enter \n",
      "1 . To find area of tringle using height and base \n",
      "2. To find area of triagle using length three sides 1\n",
      "Enter height12\n",
      "Enter base34\n",
      "Area of triangle = 204.0\n"
     ]
    }
   ],
   "source": [
    "import math\n",
    "UserInput= int(input(\"Enter \\r1 . To find area of tringle using height and base \\r2. To find area of triagle using length three sides \"))\n",
    "if UserInput ==1:\n",
    "    height = float(input(\"Enter height\"))\n",
    "    base =float(input(\"Enter base\"))\n",
    "    Area= (height*base)/2\n",
    "elif UserInput ==2:\n",
    "    sideA= float(input(\"side a length\"))\n",
    "    sideB= float(input(\"side b length\"))\n",
    "    sideC= float(input(\"side c length\"))\n",
    "    \n",
    "    semiperimeter = (sideA+sideB+sideC)/2\n",
    "    Area = math.pow(semiperimeter*(semiperimeter-sideA)*(semiperimeter-sideB)*(semiperimeter-sideC),0.5)\n",
    "    \n",
    "print (\"Area of triangle =\",Area)"
   ]
  },
  {
   "cell_type": "markdown",
   "metadata": {},
   "source": [
    "4.\tWrite a Python program to swap two variables?"
   ]
  },
  {
   "cell_type": "code",
   "execution_count": 5,
   "metadata": {},
   "outputs": [
    {
     "name": "stdout",
     "output_type": "stream",
     "text": [
      "vale of a and b before swaping a= 10 b= 20\n",
      "value of a and b after swaping a= 20 b 10\n"
     ]
    }
   ],
   "source": [
    "a=10\n",
    "b=20\n",
    "print ('vale of a and b before swaping a=',a,'b=',b)\n",
    "b=a+b\n",
    "a=b-a\n",
    "b=b-a\n",
    "print('value of a and b after swaping a=',a,'b',b)"
   ]
  },
  {
   "cell_type": "markdown",
   "metadata": {},
   "source": [
    "5.\tWrite a Python program to generate a random number?"
   ]
  },
  {
   "cell_type": "code",
   "execution_count": 6,
   "metadata": {},
   "outputs": [
    {
     "data": {
      "text/plain": [
       "0.04700003378404227"
      ]
     },
     "execution_count": 6,
     "metadata": {},
     "output_type": "execute_result"
    }
   ],
   "source": [
    "import random\n",
    "random.random()"
   ]
  },
  {
   "cell_type": "code",
   "execution_count": null,
   "metadata": {},
   "outputs": [],
   "source": []
  }
 ],
 "metadata": {
  "kernelspec": {
   "display_name": "Python 3",
   "language": "python",
   "name": "python3"
  },
  "language_info": {
   "codemirror_mode": {
    "name": "ipython",
    "version": 3
   },
   "file_extension": ".py",
   "mimetype": "text/x-python",
   "name": "python",
   "nbconvert_exporter": "python",
   "pygments_lexer": "ipython3",
   "version": "3.6.5"
  }
 },
 "nbformat": 4,
 "nbformat_minor": 2
}
