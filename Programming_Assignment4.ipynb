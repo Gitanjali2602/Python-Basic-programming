{
 "cells": [
  {
   "cell_type": "markdown",
   "metadata": {},
   "source": [
    "# Programming_Assingment4"
   ]
  },
  {
   "cell_type": "markdown",
   "metadata": {},
   "source": [
    "1.\tWrite a Python Program to Find the Factorial of a Number?"
   ]
  },
  {
   "cell_type": "code",
   "execution_count": 3,
   "metadata": {},
   "outputs": [
    {
     "name": "stdout",
     "output_type": "stream",
     "text": [
      "Enter a number to find factorial12\n",
      "factorial of 12 is 479001600\n"
     ]
    }
   ],
   "source": [
    "Number =int (input('Enter a number to find factorial'))\n",
    "Factorial_Number=1\n",
    "for i in range(1,Number+1):\n",
    "    Factorial_Number=Factorial_Number*i\n",
    "print('factorial of {0} is {1}'.format(Number,Factorial_Number))\n",
    "    "
   ]
  },
  {
   "cell_type": "markdown",
   "metadata": {},
   "source": [
    "2.\tWrite a Python Program to Display the multiplication Table?"
   ]
  },
  {
   "cell_type": "code",
   "execution_count": 4,
   "metadata": {},
   "outputs": [
    {
     "name": "stdout",
     "output_type": "stream",
     "text": [
      "Enter a number to display table12\n",
      "12\n",
      "24\n",
      "36\n",
      "48\n",
      "60\n",
      "72\n",
      "84\n",
      "96\n",
      "108\n",
      "120\n"
     ]
    }
   ],
   "source": [
    "Number =int (input(\"Enter a number to display table\"))\n",
    "for i in range(1,11):\n",
    "    print(i*Number)"
   ]
  },
  {
   "cell_type": "markdown",
   "metadata": {},
   "source": [
    "3.\tWrite a Python Program to Print the Fibonacci sequence?"
   ]
  },
  {
   "cell_type": "code",
   "execution_count": 21,
   "metadata": {},
   "outputs": [
    {
     "name": "stdout",
     "output_type": "stream",
     "text": [
      "enter a number to print fibonacci sequence10\n",
      "0 \n",
      " 1\n",
      "1\n",
      "2\n",
      "3\n",
      "5\n",
      "8\n",
      "13\n",
      "21\n",
      "34\n"
     ]
    }
   ],
   "source": [
    "f0=0\n",
    "f1=1\n",
    "fibonacci=0\n",
    "Number = int(input('enter a number to print fibonacci sequence'))\n",
    "if Number ==0 :\n",
    "    print('Please enter Positive Number')\n",
    "elif Number ==1:\n",
    "    print(\"Fibonacci sequence for {0} is {1},{2}\".format(Number,f0,f1))\n",
    "else:\n",
    "    #print(f0,'\\n',f1)\n",
    "    print(f0,'\\n',f1)\n",
    "    for i in range(0,Number-2):\n",
    "        fibonacci = f0+f1 \n",
    "        f0=f1\n",
    "        f1 =fibonacci\n",
    "        print(fibonacci)"
   ]
  },
  {
   "cell_type": "markdown",
   "metadata": {},
   "source": [
    "4.\tWrite a Python Program to Check Armstrong Number?"
   ]
  },
  {
   "cell_type": "code",
   "execution_count": 10,
   "metadata": {},
   "outputs": [
    {
     "name": "stdout",
     "output_type": "stream",
     "text": [
      "enter number to check armstrong or NOT370\n",
      "370 is Armstrong Number\n"
     ]
    }
   ],
   "source": [
    "import math\n",
    "Number = int(input('enter number to check armstrong or NOT'))\n",
    "temp =0\n",
    "Number_store = Number\n",
    "while Number > 0:\n",
    "    temp = temp + math.pow((Number%10),3)\n",
    "    Number=int(Number/10)\n",
    "if Number_store == temp:\n",
    "    print('{0} is Armstrong Number'.format(Number_store))\n",
    "else:\n",
    "    print('{0} is NOT Armstong Number'.format(Number_store))"
   ]
  },
  {
   "cell_type": "markdown",
   "metadata": {},
   "source": [
    "5.\tWrite a Python Program to Find Armstrong Number in an Interval?"
   ]
  },
  {
   "cell_type": "code",
   "execution_count": 12,
   "metadata": {},
   "outputs": [
    {
     "name": "stdout",
     "output_type": "stream",
     "text": [
      "enter lower limit1\n",
      "enter upper limit1000\n",
      "1 is Armstrong Number\n",
      "153 is Armstrong Number\n",
      "370 is Armstrong Number\n",
      "371 is Armstrong Number\n",
      "407 is Armstrong Number\n"
     ]
    }
   ],
   "source": [
    "lower= int(input('enter lower limit'))\n",
    "upper=int(input('enter upper limit'))\n",
    "for Number in range(lower,upper):\n",
    "    temp =0\n",
    "    Number_store = Number\n",
    "    while Number > 0:\n",
    "        temp = temp + math.pow((Number%10),3)\n",
    "        Number=int(Number/10)\n",
    "    if Number_store == temp:\n",
    "        print('{0} is Armstrong Number'.format(Number_store))\n"
   ]
  },
  {
   "cell_type": "markdown",
   "metadata": {},
   "source": [
    "6.\tWrite a Python Program to Find the Sum of Natural Numbers?"
   ]
  },
  {
   "cell_type": "code",
   "execution_count": 14,
   "metadata": {},
   "outputs": [
    {
     "name": "stdout",
     "output_type": "stream",
     "text": [
      "enter lower limit100\n",
      "enter upper limit200\n",
      "addition of Natural number  15050.0\n"
     ]
    }
   ],
   "source": [
    "\n",
    "lower= int(input('enter lower limit'))\n",
    "upper=int(input('enter upper limit'))\n",
    "\n",
    "lower_add= (lower*(lower+1))/2\n",
    "upper_add= (upper*(upper+1))/2\n",
    "\n",
    "print('addition of Natural number ',upper_add-lower_add)"
   ]
  }
 ],
 "metadata": {
  "kernelspec": {
   "display_name": "Python 3",
   "language": "python",
   "name": "python3"
  },
  "language_info": {
   "codemirror_mode": {
    "name": "ipython",
    "version": 3
   },
   "file_extension": ".py",
   "mimetype": "text/x-python",
   "name": "python",
   "nbconvert_exporter": "python",
   "pygments_lexer": "ipython3",
   "version": "3.6.5"
  }
 },
 "nbformat": 4,
 "nbformat_minor": 2
}
