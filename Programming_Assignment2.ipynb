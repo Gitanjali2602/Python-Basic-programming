{
 "cells": [
  {
   "cell_type": "markdown",
   "metadata": {},
   "source": [
    "# Programming_Assingment2"
   ]
  },
  {
   "cell_type": "markdown",
   "metadata": {},
   "source": [
    "1.\tWrite a Python program to convert kilometers to miles?"
   ]
  },
  {
   "cell_type": "code",
   "execution_count": 2,
   "metadata": {},
   "outputs": [
    {
     "name": "stdout",
     "output_type": "stream",
     "text": [
      "enter distance in kilometer120\n",
      "distanc in miles 74.56454306848008\n"
     ]
    }
   ],
   "source": [
    "distance = float(input(\"enter distance in kilometer\"))\n",
    "print('distance in miles',distance/1.609344)"
   ]
  },
  {
   "cell_type": "markdown",
   "metadata": {},
   "source": [
    "2.\tWrite a Python program to convert Celsius to Fahrenheit?"
   ]
  },
  {
   "cell_type": "code",
   "execution_count": 7,
   "metadata": {},
   "outputs": [
    {
     "name": "stdout",
     "output_type": "stream",
     "text": [
      "enter temperature in celsius123\n",
      "temperature in Fahrenheit 253.4\n"
     ]
    }
   ],
   "source": [
    "temp = float(input('enter temperature in celsius'))\n",
    "print('temperature in Fahrenheit',(temp*(9/5))+32)"
   ]
  },
  {
   "cell_type": "markdown",
   "metadata": {},
   "source": [
    "3.\tWrite a Python program to display calendar?"
   ]
  },
  {
   "cell_type": "code",
   "execution_count": 10,
   "metadata": {},
   "outputs": [
    {
     "name": "stdout",
     "output_type": "stream",
     "text": [
      "enter month :5\n",
      "enter year :2021\n",
      "      May 2021\n",
      "Mo Tu We Th Fr Sa Su\n",
      "                1  2\n",
      " 3  4  5  6  7  8  9\n",
      "10 11 12 13 14 15 16\n",
      "17 18 19 20 21 22 23\n",
      "24 25 26 27 28 29 30\n",
      "31\n",
      "\n"
     ]
    }
   ],
   "source": [
    "import calendar\n",
    "month = int(input('enter month :'))\n",
    "year= int(input('enter year :'))\n",
    "print(calendar.month(year,month))"
   ]
  },
  {
   "cell_type": "markdown",
   "metadata": {},
   "source": [
    "4.\tWrite a Python program to solve quadratic equation?"
   ]
  },
  {
   "cell_type": "code",
   "execution_count": 20,
   "metadata": {},
   "outputs": [
    {
     "name": "stdout",
     "output_type": "stream",
     "text": [
      "enter value of a1\n",
      "enter value of b2\n",
      "enter value of c3\n",
      "solutions are (-1+1.4142135623730951j) and (-1-1.4142135623730951j)\n"
     ]
    }
   ],
   "source": [
    "# eq consider -> ax^2 + bx +c\n",
    "\n",
    "import math\n",
    "import cmath\n",
    "a= float (input('enter value of a')) \n",
    "b= float (input('enter value of b'))\n",
    "c= float (input('enter value of c'))\n",
    "\n",
    "d = math.pow(b,2)- 4*a*c\n",
    "\n",
    "solution1=(-b +(cmath.sqrt(d)))/2*a\n",
    "solution2=(-b -(cmath.sqrt(d)))/2*a\n",
    "print ('solutions are {0} and {1}'.format(solution1,solution2))"
   ]
  },
  {
   "cell_type": "markdown",
   "metadata": {},
   "source": [
    "5.\tWrite a Python program to swap two variables without temp variable?"
   ]
  },
  {
   "cell_type": "code",
   "execution_count": 23,
   "metadata": {},
   "outputs": [
    {
     "name": "stdout",
     "output_type": "stream",
     "text": [
      "vale of a and b before swaping a= 10.34 b= 20.54\n",
      "value of a and b after swaping a= 20.54 b 10.34\n"
     ]
    }
   ],
   "source": [
    "a=10.34\n",
    "b=20.54\n",
    "print ('vale of a and b before swaping a=',a,'b=',b)\n",
    "b=a*b\n",
    "a=b/a\n",
    "b=b/a\n",
    "print('value of a and b after swaping a=',a,'b',b)"
   ]
  }
 ],
 "metadata": {
  "kernelspec": {
   "display_name": "Python 3",
   "language": "python",
   "name": "python3"
  },
  "language_info": {
   "codemirror_mode": {
    "name": "ipython",
    "version": 3
   },
   "file_extension": ".py",
   "mimetype": "text/x-python",
   "name": "python",
   "nbconvert_exporter": "python",
   "pygments_lexer": "ipython3",
   "version": "3.6.5"
  }
 },
 "nbformat": 4,
 "nbformat_minor": 2
}
