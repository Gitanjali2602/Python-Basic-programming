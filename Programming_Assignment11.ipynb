{
 "cells": [
  {
   "cell_type": "markdown",
   "metadata": {},
   "source": [
    "# Programming_Assingment 11"
   ]
  },
  {
   "cell_type": "markdown",
   "metadata": {},
   "source": [
    "1.\tWrite a Python program to find words which are greater than given length k?"
   ]
  },
  {
   "cell_type": "code",
   "execution_count": 3,
   "metadata": {},
   "outputs": [
    {
     "name": "stdout",
     "output_type": "stream",
     "text": [
      "enter length you want to check 8\n",
      "enter string to check  lengthgitanjali\n",
      "string length is greater than 8\n"
     ]
    }
   ],
   "source": [
    "k = int(input(\"enter length you want to check \"))\n",
    "word = input('enter string to check  length')\n",
    "if len(word) >k :\n",
    "        print('string length is greater than {}'.format(k))"
   ]
  },
  {
   "cell_type": "markdown",
   "metadata": {},
   "source": [
    "2.\tWrite a Python program for removing i-th character from a string?"
   ]
  },
  {
   "cell_type": "code",
   "execution_count": 8,
   "metadata": {},
   "outputs": [
    {
     "name": "stdout",
     "output_type": "stream",
     "text": [
      "enter string gitanjajli \n",
      "enter index which you want to remove0\n",
      "itanjajli \n"
     ]
    }
   ],
   "source": [
    "word = input('enter string ')\n",
    "k= int(input('enter index which you want to remove'))\n",
    "new_word=\"\"\n",
    "for i in range(len(word)):\n",
    "    if k != i:\n",
    "        new_word = new_word + word[i]\n",
    "print(new_word)"
   ]
  },
  {
   "cell_type": "markdown",
   "metadata": {},
   "source": [
    "3.\tWrite a Python program to split and join a string?"
   ]
  },
  {
   "cell_type": "code",
   "execution_count": 15,
   "metadata": {},
   "outputs": [
    {
     "name": "stdout",
     "output_type": "stream",
     "text": [
      "split : anjali\n",
      "join : gitanjalipatil\n"
     ]
    }
   ],
   "source": [
    "name = \"gitanjali\"\n",
    "print (\"split :\",name[3:])\n",
    "print (\"join :\",name + 'patil')"
   ]
  },
  {
   "cell_type": "markdown",
   "metadata": {},
   "source": [
    "4.\tWrite a Python to check if a given string is binary string or not?"
   ]
  },
  {
   "cell_type": "code",
   "execution_count": 35,
   "metadata": {},
   "outputs": [
    {
     "name": "stdout",
     "output_type": "stream",
     "text": [
      "enter string to check binary or not1000001\n",
      "1\n",
      "Given string is Binary\n"
     ]
    }
   ],
   "source": [
    "def check_string(takeinput):\n",
    "    for i in range(len(takeinput)):\n",
    "        if takeinput[i] == '1' or takeinput[i] =='0':\n",
    "            continue\n",
    "        else:\n",
    "            return 0\n",
    "    return 1\n",
    "    \n",
    "takeinput = input (\"enter string to check binary or not\")\n",
    "print(check_string(takeinput))\n",
    "if check_string(takeinput) == 1:\n",
    "    print('Given string is Binary')\n",
    "else:\n",
    "    print(\"Given string is not BInary\")\n"
   ]
  },
  {
   "cell_type": "markdown",
   "metadata": {},
   "source": [
    "5.\tWrite a Python program to find uncommon words from two Strings?"
   ]
  },
  {
   "cell_type": "code",
   "execution_count": 44,
   "metadata": {},
   "outputs": [
    {
     "name": "stdout",
     "output_type": "stream",
     "text": [
      "string\n",
      "characters.\n",
      "It\n",
      "derived\n",
      "type.\n",
      "Strings\n",
      "are\n",
      "immutable.\n",
      "list\n",
      "structure\n",
      "that\n",
      "mutable,\n",
      "or\n",
      "changeable,\n",
      "ordered\n",
      "elements.\n"
     ]
    }
   ],
   "source": [
    "string_1 = 'A string in Python is a sequence of characters. It is a derived data type. Strings are immutable.'\n",
    "string_2 = 'A list is a data structure in Python that is a mutable, or changeable, ordered sequence of elements.'\n",
    "listofstring_1=[]\n",
    "listofstring_2=[]\n",
    "listofstring_1=string_1.split()\n",
    "listofstring_2=string_2.split()\n",
    "\n",
    "for i in listofstring_1 :\n",
    "    if i not in listofstring_2:\n",
    "        print(i)\n",
    "for j in listofstring_2 :\n",
    "    if j not in listofstring_1:\n",
    "        print(j)  "
   ]
  },
  {
   "cell_type": "markdown",
   "metadata": {},
   "source": [
    "6.\tWrite a Python to find all duplicate characters in string?"
   ]
  },
  {
   "cell_type": "code",
   "execution_count": 58,
   "metadata": {},
   "outputs": [
    {
     "name": "stdout",
     "output_type": "stream",
     "text": [
      "{'is', 'a'}\n"
     ]
    }
   ],
   "source": [
    "string_2 = 'A list is a data structure in Python that is a mutable, or changeable, ordered sequence of elements.'\n",
    "listofstring_2=string_2.split()\n",
    "set_=set({})\n",
    "for i in listofstring_1 :\n",
    "    if listofstring_1 .count(i)> 1:\n",
    "        set_.add(i)\n",
    "print(set_)"
   ]
  },
  {
   "cell_type": "markdown",
   "metadata": {},
   "source": [
    "7.\tWrite a Python Program to check if a string contains any special character?"
   ]
  },
  {
   "cell_type": "code",
   "execution_count": 60,
   "metadata": {},
   "outputs": [
    {
     "name": "stdout",
     "output_type": "stream",
     "text": [
      "!\n",
      "!\n"
     ]
    }
   ],
   "source": [
    "special_charactors='''!#$%&'()*+,-./:;<=>?@[]^_`{|}~0123456789'''\n",
    "mystring='gitanali!!'\n",
    "for i in mystring:\n",
    "    if i in special_charactors:\n",
    "        print(i)"
   ]
  }
 ],
 "metadata": {
  "kernelspec": {
   "display_name": "Python 3",
   "language": "python",
   "name": "python3"
  },
  "language_info": {
   "codemirror_mode": {
    "name": "ipython",
    "version": 3
   },
   "file_extension": ".py",
   "mimetype": "text/x-python",
   "name": "python",
   "nbconvert_exporter": "python",
   "pygments_lexer": "ipython3",
   "version": "3.6.5"
  }
 },
 "nbformat": 4,
 "nbformat_minor": 2
}
