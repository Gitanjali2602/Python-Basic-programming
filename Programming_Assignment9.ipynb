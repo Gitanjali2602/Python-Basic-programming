{
 "cells": [
  {
   "cell_type": "markdown",
   "metadata": {},
   "source": [
    "# Programming_Assingment 9"
   ]
  },
  {
   "cell_type": "markdown",
   "metadata": {},
   "source": [
    "1.\tWrite a Python program to check if the given number is a Disarium Number?"
   ]
  },
  {
   "cell_type": "code",
   "execution_count": 16,
   "metadata": {},
   "outputs": [
    {
     "name": "stdout",
     "output_type": "stream",
     "text": [
      "enter the number135\n",
      "135 is Disarium\n"
     ]
    }
   ],
   "source": [
    "'''A number is called Disarium if sum of its digits powered with their respective positions is equal to the number itself.\n",
    " 89, 135, 518 etc '''\n",
    "\n",
    "number = int (input(\"enter the number\"))\n",
    "number_save =number\n",
    "number_save_1 =number\n",
    "len_number=0\n",
    "while number >0:\n",
    "    number = int(number /10)\n",
    "    len_number+=1\n",
    "\n",
    "add=0\n",
    "while number_save > 0:\n",
    "    digit = number_save%10\n",
    "    add += pow (digit,len_number)\n",
    "    number_save =int (number_save/10)\n",
    "    len_number -=1\n",
    "    \n",
    "if number_save_1 ==add:\n",
    "    print('{} is Disarium'.format (number_save_1))\n",
    "else:\n",
    "    print('{} is not Disarium'.format(number_save_1))"
   ]
  },
  {
   "cell_type": "markdown",
   "metadata": {},
   "source": [
    "2.\tWrite a Python program to print all disarium numbers between 1 to 100?"
   ]
  },
  {
   "cell_type": "code",
   "execution_count": 17,
   "metadata": {},
   "outputs": [
    {
     "name": "stdout",
     "output_type": "stream",
     "text": [
      "0 is Disarium\n",
      "1 is Disarium\n",
      "2 is Disarium\n",
      "3 is Disarium\n",
      "4 is Disarium\n",
      "5 is Disarium\n",
      "6 is Disarium\n",
      "7 is Disarium\n",
      "8 is Disarium\n",
      "9 is Disarium\n",
      "89 is Disarium\n"
     ]
    }
   ],
   "source": [
    "for number in range(100):\n",
    "    number_save =number\n",
    "    number_save_1 =number\n",
    "    len_number=0\n",
    "    while number >0:\n",
    "        number = int(number /10)\n",
    "        len_number+=1\n",
    "\n",
    "    add=0\n",
    "    while number_save > 0:\n",
    "        digit = number_save%10\n",
    "        add += pow (digit,len_number)\n",
    "        number_save =int (number_save/10)\n",
    "        len_number -=1\n",
    "    \n",
    "    if number_save_1 ==add:\n",
    "        print('{} is Disarium'.format (number_save_1))"
   ]
  },
  {
   "cell_type": "markdown",
   "metadata": {},
   "source": [
    "3.\tWrite a Python program to check if the given number is Happy Number?"
   ]
  },
  {
   "cell_type": "code",
   "execution_count": 19,
   "metadata": {},
   "outputs": [
    {
     "name": "stdout",
     "output_type": "stream",
     "text": [
      "13 is a happy number\n"
     ]
    }
   ],
   "source": [
    "def isHappyNumber(num):    \n",
    "    rem = sum = 0    \n",
    "    while(num > 0):    \n",
    "        rem = num%10    \n",
    "        sum = sum + (rem*rem)  \n",
    "        num = num//10  \n",
    "    return sum    \n",
    "        \n",
    "num = 13    \n",
    "result = num    \n",
    "     \n",
    "while(result != 1 and result != 4):    \n",
    "    result = isHappyNumber(result)    \n",
    "     \n",
    "if(result == 1):    \n",
    "    print(str(num) + \" is a happy number\")    \n",
    "elif(result == 4):    \n",
    "    print(str(num) + \" is not a happy number\")"
   ]
  },
  {
   "cell_type": "markdown",
   "metadata": {},
   "source": [
    "4.\tWrite a Python program to print all happy numbers between 1 and 100?"
   ]
  },
  {
   "cell_type": "code",
   "execution_count": 35,
   "metadata": {},
   "outputs": [
    {
     "name": "stdout",
     "output_type": "stream",
     "text": [
      "1is a happy number\n",
      "7is a happy number\n",
      "10is a happy number\n",
      "13is a happy number\n",
      "19is a happy number\n",
      "23is a happy number\n",
      "28is a happy number\n",
      "31is a happy number\n",
      "32is a happy number\n",
      "44is a happy number\n",
      "49is a happy number\n",
      "68is a happy number\n",
      "70is a happy number\n",
      "79is a happy number\n",
      "82is a happy number\n",
      "86is a happy number\n",
      "91is a happy number\n",
      "94is a happy number\n",
      "97is a happy number\n",
      "100is a happy number\n"
     ]
    }
   ],
   "source": [
    "def isHappyNumber(num):    \n",
    "    rem = sum = 0    \n",
    "    while(num > 0):    \n",
    "        rem = num%10    \n",
    "        sum = sum + (rem*rem)    \n",
    "        num = num//10    \n",
    "    return sum    \n",
    "        \n",
    "for num in range(1,101):   \n",
    "    result = num    \n",
    "    while(result != 1 and result != 4):    \n",
    "        result = isHappyNumber(result)    \n",
    "    if(result == 1):    \n",
    "        print(str(num) + \"is a happy number\")  "
   ]
  },
  {
   "cell_type": "markdown",
   "metadata": {},
   "source": [
    "5.\tWrite a Python program to determine whether the given number is a Harshad Number?"
   ]
  },
  {
   "cell_type": "code",
   "execution_count": 39,
   "metadata": {},
   "outputs": [
    {
     "name": "stdout",
     "output_type": "stream",
     "text": [
      "enter the given number153\n",
      "Given Number is Harshad Number\n"
     ]
    }
   ],
   "source": [
    "'''In mathematics, a harshad number (or Niven number) in a given number base is an integer that \n",
    "is divisible by the sum of its digits when written in that base'''\n",
    "\n",
    "\n",
    "number = int(input('enter the given number'))\n",
    "temp = number \n",
    "add =0\n",
    "while (number > 0):\n",
    "    digit = number%10\n",
    "    add = add+digit\n",
    "    number = number//10\n",
    "    \n",
    "if temp% add == 0:\n",
    "    print(\"Given Number is Harshad Number\")\n",
    "else:\n",
    "    print(\"number is not Harshal\")\n",
    "    "
   ]
  },
  {
   "cell_type": "markdown",
   "metadata": {},
   "source": [
    "6.\tWrite a Python program to print all pronic numbers between 1 and 100?"
   ]
  },
  {
   "cell_type": "code",
   "execution_count": 44,
   "metadata": {},
   "outputs": [
    {
     "name": "stdout",
     "output_type": "stream",
     "text": [
      "0\n",
      "2\n",
      "6\n",
      "12\n",
      "20\n",
      "30\n",
      "42\n",
      "56\n",
      "72\n",
      "90\n"
     ]
    }
   ],
   "source": [
    "'''A pronic number is a number which is the product of two consecutive integers, that is, a number of the form n(n + 1)'''\n",
    "\n",
    "for n in range(101):\n",
    "    number = n\n",
    "    for i in range(number+1):\n",
    "        if i*(i+1) == number:\n",
    "            print(number)"
   ]
  },
  {
   "cell_type": "code",
   "execution_count": null,
   "metadata": {},
   "outputs": [],
   "source": []
  }
 ],
 "metadata": {
  "kernelspec": {
   "display_name": "Python 3",
   "language": "python",
   "name": "python3"
  },
  "language_info": {
   "codemirror_mode": {
    "name": "ipython",
    "version": 3
   },
   "file_extension": ".py",
   "mimetype": "text/x-python",
   "name": "python",
   "nbconvert_exporter": "python",
   "pygments_lexer": "ipython3",
   "version": "3.6.5"
  }
 },
 "nbformat": 4,
 "nbformat_minor": 2
}
