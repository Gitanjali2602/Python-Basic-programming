{
 "cells": [
  {
   "cell_type": "markdown",
   "metadata": {},
   "source": [
    "# Programming_Assingment5"
   ]
  },
  {
   "cell_type": "markdown",
   "metadata": {},
   "source": [
    "1.\tWrite a Python Program to Find LCM?"
   ]
  },
  {
   "cell_type": "code",
   "execution_count": 12,
   "metadata": {},
   "outputs": [
    {
     "name": "stdout",
     "output_type": "stream",
     "text": [
      "enter 1st number22\n",
      "enter 2nd number55\n",
      "LCN of 22 and 55 is 110\n"
     ]
    }
   ],
   "source": [
    "Number_1 = int(input('enter 1st number'))\n",
    "Number_2 = int(input('enter 2nd number'))\n",
    "if Number_1 > Number_2:\n",
    "    greater = Number_1\n",
    "else:\n",
    "    greater= Number_2\n",
    "while True:\n",
    "    if (greater%Number_1 ==0) and ( greater%Number_2 ==0):\n",
    "        LCM = greater\n",
    "        break\n",
    "    greater+=1\n",
    "print('LCN of {0} and {1} is {2}'.format(Number_1,Number_2,LCM))"
   ]
  },
  {
   "cell_type": "markdown",
   "metadata": {},
   "source": [
    "2.\tWrite a Python Program to Find HCF?"
   ]
  },
  {
   "cell_type": "code",
   "execution_count": 17,
   "metadata": {},
   "outputs": [
    {
     "name": "stdout",
     "output_type": "stream",
     "text": [
      "enter 1st number20\n",
      "enter 2nd number200\n",
      "HCF of 20and 200 is 20\n"
     ]
    }
   ],
   "source": [
    "Number_1 = int(input('enter 1st number'))\n",
    "Number_2 = int(input('enter 2nd number'))\n",
    "\n",
    "if Number_1<Number_2 :\n",
    "    smaller = Number_1\n",
    "else:\n",
    "    smaller =Number_2\n",
    "for i in range(1,smaller+1):\n",
    "    if (Number_1% i ==0) and (Number_2%i ==0):\n",
    "        HCF =i\n",
    "print('HCF of {0}and {1} is {2}'.format(Number_1,Number_2,HCF))"
   ]
  },
  {
   "cell_type": "markdown",
   "metadata": {},
   "source": [
    "3.\tWrite a Python Program to Convert Decimal to Binary, Octal and Hexadecimal?"
   ]
  },
  {
   "cell_type": "code",
   "execution_count": 20,
   "metadata": {
    "scrolled": true
   },
   "outputs": [
    {
     "name": "stdout",
     "output_type": "stream",
     "text": [
      "Enter Number in Decimal12\n",
      "Binary conversion :  0b1100\n",
      "Octal conversion : 0o14\n",
      "Hexadecimal conversion 0xc\n"
     ]
    }
   ],
   "source": [
    "Number = int (input('Enter Number in Decimal'))\n",
    "print ('Binary conversion : ',bin(Number))\n",
    "print ('Octal conversion :',oct(Number))\n",
    "print ('Hexadecimal conversion',hex(Number))"
   ]
  },
  {
   "cell_type": "markdown",
   "metadata": {},
   "source": [
    "4.\tWrite a Python Program To Find ASCII value of a character?"
   ]
  },
  {
   "cell_type": "code",
   "execution_count": 27,
   "metadata": {},
   "outputs": [
    {
     "name": "stdout",
     "output_type": "stream",
     "text": [
      "enter number to check ASCII valueA\n",
      "ASCII value of A is 65\n"
     ]
    }
   ],
   "source": [
    "Number =input('enter number to check ASCII value')\n",
    "print('ASCII value of {0} is {1}'.format(Number,ord(Number)))"
   ]
  },
  {
   "cell_type": "markdown",
   "metadata": {},
   "source": [
    "5.\tWrite a Python Program to Make a Simple Calculator with 4 basic mathematical operations?"
   ]
  },
  {
   "cell_type": "code",
   "execution_count": 35,
   "metadata": {},
   "outputs": [
    {
     "name": "stdout",
     "output_type": "stream",
     "text": [
      "enter first Number34\n",
      "enter first Number1\n",
      "enter \n",
      "+ : for Addition \n",
      "- : for Subtraction \n",
      "* : for Multipliation \n",
      "/ : for division-\n",
      "Subtraction =  33\n"
     ]
    }
   ],
   "source": [
    "Number_1 = int (input('enter first Number'))\n",
    "Number_2 = int (input('enter first Number'))\n",
    "Operation = (input('enter \\r+ : for Addition \\r- : for Subtraction \\r* : for Multipliation \\r/ : for division'))\n",
    "if Operation =='+':\n",
    "    print('Addition = ',Number_1+Number_2)\n",
    "elif Operation =='-':\n",
    "    print('Subtraction = ',Number_1 - Number_2)\n",
    "elif Operation =='*':\n",
    "    print('Subtraction = ',Number_1 * Number_2)\n",
    "elif Operation =='/':\n",
    "    print('Subtraction = ',Number_1 / Number_2)\n",
    "else:\n",
    "    print('Invalid Operation')\n",
    "    \n",
    "    "
   ]
  },
  {
   "cell_type": "code",
   "execution_count": null,
   "metadata": {},
   "outputs": [],
   "source": []
  }
 ],
 "metadata": {
  "kernelspec": {
   "display_name": "Python 3",
   "language": "python",
   "name": "python3"
  },
  "language_info": {
   "codemirror_mode": {
    "name": "ipython",
    "version": 3
   },
   "file_extension": ".py",
   "mimetype": "text/x-python",
   "name": "python",
   "nbconvert_exporter": "python",
   "pygments_lexer": "ipython3",
   "version": "3.6.5"
  }
 },
 "nbformat": 4,
 "nbformat_minor": 2
}
