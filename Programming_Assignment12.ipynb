{
 "cells": [
  {
   "cell_type": "markdown",
   "metadata": {},
   "source": [
    "# Programming_Assingment 12"
   ]
  },
  {
   "cell_type": "markdown",
   "metadata": {},
   "source": [
    "1.\tWrite a Python program to Extract Unique values dictionary values?"
   ]
  },
  {
   "cell_type": "code",
   "execution_count": 7,
   "metadata": {},
   "outputs": [
    {
     "name": "stdout",
     "output_type": "stream",
     "text": [
      "{'India', 'Mustang', 1964, 'Ford'}\n"
     ]
    }
   ],
   "source": [
    "thisdict = {\n",
    "  \"brand\": \"Ford\",\n",
    "  \"model\": \"Mustang\",\n",
    "  \"year\": 1964,\n",
    "\"country\": 'India',\n",
    "  'logo':'India'  \n",
    "}\n",
    "\n",
    "print(set(thisdict.values()))"
   ]
  },
  {
   "cell_type": "markdown",
   "metadata": {},
   "source": [
    "2.\tWrite a Python program to find the sum of all items in a dictionary?"
   ]
  },
  {
   "cell_type": "code",
   "execution_count": 16,
   "metadata": {},
   "outputs": [
    {
     "name": "stdout",
     "output_type": "stream",
     "text": [
      "60\n"
     ]
    }
   ],
   "source": [
    "thisdict = {\n",
    "  'a':10,'b':20,'c':30 \n",
    "}\n",
    "\n",
    "lst=thisdict.values()\n",
    "print(sum(lst))"
   ]
  },
  {
   "cell_type": "markdown",
   "metadata": {},
   "source": [
    "3.\tWrite a Python program to Merging two Dictionaries?"
   ]
  },
  {
   "cell_type": "raw",
   "metadata": {},
   "source": []
  },
  {
   "cell_type": "code",
   "execution_count": 24,
   "metadata": {},
   "outputs": [
    {
     "name": "stdout",
     "output_type": "stream",
     "text": [
      "{'brand': 'TATA', 'model': 'Mustang', 'year': 1964, 'country': 'India', 'logo': 'India', 'a': 10, 'b': 20, 'c': 30}\n"
     ]
    }
   ],
   "source": [
    "thisdict_1 = {\n",
    "  \"brand\": \"Ford\",\n",
    "  \"model\": \"Mustang\",\n",
    "  \"year\": 1964,\n",
    "\"country\": 'India',\n",
    "  'logo':'India'  \n",
    "}\n",
    "thisdict_2 = {\n",
    "    'brand':'TATA',\n",
    "  'a':10,'b':20,'c':30 \n",
    "}\n",
    "\n",
    "\n",
    "thisdict_1.update(thisdict_2)\n",
    "\n",
    "print(thisdict_1)"
   ]
  },
  {
   "cell_type": "markdown",
   "metadata": {},
   "source": [
    "4.\tWrite a Python program to convert key-values list to flat dictionary?"
   ]
  },
  {
   "cell_type": "code",
   "execution_count": 29,
   "metadata": {},
   "outputs": [
    {
     "name": "stdout",
     "output_type": "stream",
     "text": [
      "{1: 'jan', 2: 'feb', 3: 'march', 4: 'april', 5: 'may'}\n"
     ]
    }
   ],
   "source": [
    "my_dict = {'month_num':[1,2,3,4,5],'month':['jan','feb','march','april','may']}\n",
    "\n",
    "result = dict (zip (my_dict['month_num'],my_dict['month']))\n",
    "print(result)"
   ]
  },
  {
   "cell_type": "markdown",
   "metadata": {},
   "source": [
    "5.\tWrite a Python program to insertion at the beginning in OrderedDict?"
   ]
  },
  {
   "cell_type": "code",
   "execution_count": 30,
   "metadata": {},
   "outputs": [
    {
     "name": "stdout",
     "output_type": "stream",
     "text": [
      "Resultant Dictionary : OrderedDict([('three', '3'), ('one', '1'), ('two', '2')])\n"
     ]
    }
   ],
   "source": [
    "from collections import OrderedDict\n",
    "  \n",
    "iniordered_dict = OrderedDict([('one', '1'), ('two', '2')])\n",
    "  \n",
    "iniordered_dict.update({'three':'3'})\n",
    "iniordered_dict.move_to_end('three', last = False)\n",
    "print (\"Resultant Dictionary : \"+str(iniordered_dict))"
   ]
  },
  {
   "cell_type": "markdown",
   "metadata": {},
   "source": [
    "6.\tWrite a Python program to check order of character in string using OrderedDict()?"
   ]
  },
  {
   "cell_type": "code",
   "execution_count": 31,
   "metadata": {},
   "outputs": [
    {
     "name": "stdout",
     "output_type": "stream",
     "text": [
      "The string is \n",
      "Hi Mark\n",
      "The input pattern is \n",
      "Ma\n",
      "The order of pattern is correct\n"
     ]
    }
   ],
   "source": [
    "from collections import OrderedDict\n",
    "def check_order(my_input, my_pattern):\n",
    "    my_dict = OrderedDict.fromkeys(my_input)\n",
    "    pattern_length = 0\n",
    "    for key,value in my_dict.items():\n",
    "        if (key == my_pattern[pattern_length]):\n",
    "            pattern_length = pattern_length + 1\n",
    "\n",
    "        if (pattern_length == (len(my_pattern))):\n",
    "            return 'The order of pattern is correct'\n",
    "\n",
    "    return 'The order of pattern is incorrect'\n",
    "\n",
    "my_input = 'Hi Mark'\n",
    "input_pattern = 'Ma'\n",
    "print(\"The string is \")\n",
    "print(my_input)\n",
    "print(\"The input pattern is \")\n",
    "print(input_pattern)\n",
    "print(check_order(my_input,input_pattern))"
   ]
  },
  {
   "cell_type": "markdown",
   "metadata": {},
   "source": [
    "7.\tWrite a Python program to sort Python Dictionaries by Key or Value?"
   ]
  },
  {
   "cell_type": "code",
   "execution_count": 32,
   "metadata": {},
   "outputs": [
    {
     "name": "stdout",
     "output_type": "stream",
     "text": [
      "[1, 2, 3, 4, 5, 6]\n",
      "[(1, 2), (2, 1), (3, 4), (4, 3), (5, 6), (6, 5)]\n"
     ]
    }
   ],
   "source": [
    "a = {1:2 ,2:1 ,4:3 ,3:4 ,6:5 ,5:6 }\n",
    "print(sorted(a.keys()))\n",
    "print(sorted(a.items()))"
   ]
  },
  {
   "cell_type": "code",
   "execution_count": 33,
   "metadata": {},
   "outputs": [
    {
     "name": "stdout",
     "output_type": "stream",
     "text": [
      "{'one': 'Monday', 'two': 'Tuesday', 'three': 'Wednesday', 'four': 'Thursday', 'five': 'Friday', 'six': 'Saturday', 'seven': 'Sunday'}\n",
      "['one', 'two', 'three', 'four', 'five', 'six', 'seven']\n",
      "['Monday', 'Tuesday', 'Wednesday', 'Thursday', 'Friday', 'Saturday', 'Sunday']\n"
     ]
    }
   ],
   "source": [
    "day = { 'one' : 'Monday' , 'two' : 'Tuesday' , 'three' : 'Wednesday' , 'four' : 'Thursday' , 'five': 'Friday' , 'six' : 'Saturday' , 'seven': 'Sunday'}\n",
    "print(day)\n",
    "number = { 'one' : 1 , 'two' : 2 , 'three' : 3 , 'four' : 4 , 'five' : 5 , 'six' : 6 , 'seven' : 7}\n",
    "print(sorted(day , key=number.__getitem__))\n",
    "print([day[i] for i in sorted(day , key=number.__getitem__)])"
   ]
  },
  {
   "cell_type": "code",
   "execution_count": null,
   "metadata": {},
   "outputs": [],
   "source": []
  }
 ],
 "metadata": {
  "kernelspec": {
   "display_name": "Python 3",
   "language": "python",
   "name": "python3"
  },
  "language_info": {
   "codemirror_mode": {
    "name": "ipython",
    "version": 3
   },
   "file_extension": ".py",
   "mimetype": "text/x-python",
   "name": "python",
   "nbconvert_exporter": "python",
   "pygments_lexer": "ipython3",
   "version": "3.6.5"
  }
 },
 "nbformat": 4,
 "nbformat_minor": 2
}
