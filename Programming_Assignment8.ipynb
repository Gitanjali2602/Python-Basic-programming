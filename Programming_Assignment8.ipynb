{
 "cells": [
  {
   "cell_type": "markdown",
   "metadata": {},
   "source": [
    "# Programming_Assingment 8"
   ]
  },
  {
   "cell_type": "markdown",
   "metadata": {},
   "source": [
    "1.\tWrite a Python Program to Add Two Matrices?"
   ]
  },
  {
   "cell_type": "code",
   "execution_count": 6,
   "metadata": {},
   "outputs": [
    {
     "name": "stdout",
     "output_type": "stream",
     "text": [
      "[[5, 7, 9], [7, 9, 11], [9, 11, 12]]\n"
     ]
    }
   ],
   "source": [
    "MatrixA = [[1,2,3],[2,3,4],[3,4,5]]\n",
    "MatrixB = [[4,5,6],[5,6,7],[6,7,7]]\n",
    "MatrixC = [[0,0,0],[0,0,0],[0,0,0]]\n",
    "for i in range(len(MatrixA)):\n",
    "    for j in range(len(MatrixA[0])):\n",
    "        MatrixC[i][j] = MatrixA[i][j] + MatrixB[i][j]   \n",
    "print(MatrixC)"
   ]
  },
  {
   "cell_type": "markdown",
   "metadata": {},
   "source": [
    "2.\tWrite a Python Program to Multiply Two Matrices?"
   ]
  },
  {
   "cell_type": "code",
   "execution_count": 7,
   "metadata": {},
   "outputs": [
    {
     "name": "stdout",
     "output_type": "stream",
     "text": [
      "[[30, 36, 42], [66, 81, 96], [102, 126, 150]]\n"
     ]
    }
   ],
   "source": [
    "\n",
    "MatrixA = [[1,2,3],\n",
    "            [4 ,5,6],\n",
    "            [7 ,8,9]]\n",
    "\n",
    "MatrixB = [[1,2,3],\n",
    "            [4,5,6],\n",
    "            [7,8,9]]\n",
    "\n",
    "MatrixC = [[0,0,0],\n",
    "         [0,0,0],\n",
    "         [0,0,0]]\n",
    "\n",
    "for i in range(len(MatrixA)):\n",
    "    for j in range(len(MatrixB[0])):\n",
    "        for k in range(len(MatrixB)):\n",
    "            MatrixC[i][j] += MatrixA[i][k] * MatrixB[k][j]\n",
    "print(MatrixC)"
   ]
  },
  {
   "cell_type": "markdown",
   "metadata": {},
   "source": [
    "3.\tWrite a Python Program to Transpose a Matrix?"
   ]
  },
  {
   "cell_type": "code",
   "execution_count": 9,
   "metadata": {},
   "outputs": [
    {
     "name": "stdout",
     "output_type": "stream",
     "text": [
      "[[1, 4, 7], [2, 5, 8], [3, 6, 9]]\n"
     ]
    }
   ],
   "source": [
    "MatrixA = [[1,2,3],\n",
    "            [4 ,5,6],\n",
    "            [7 ,8,9]]\n",
    "MatrixB = [[0,0,0],\n",
    "         [0,0,0],\n",
    "         [0,0,0]]\n",
    "\n",
    "for i in range (len (MatrixA)):\n",
    "    for j in range ( len (MatrixA[0])):\n",
    "        MatrixB [j][i]= MatrixA [i][j]\n",
    "print(MatrixB)\n",
    "        "
   ]
  },
  {
   "cell_type": "markdown",
   "metadata": {},
   "source": [
    "4.\tWrite a Python Program to Sort Words in Alphabetic Order?"
   ]
  },
  {
   "cell_type": "code",
   "execution_count": 23,
   "metadata": {},
   "outputs": [
    {
     "name": "stdout",
     "output_type": "stream",
     "text": [
      "Enter a string: Python program to sort the words alphabetic order \n",
      "Python\n",
      "alphabetic\n",
      "order\n",
      "program\n",
      "sort\n",
      "the\n",
      "to\n",
      "words\n"
     ]
    }
   ],
   "source": [
    "my_str = input(\"Enter a string: \")   \n",
    "words = my_str.split()  \n",
    "words.sort()  \n",
    "for word in words:  \n",
    "    print(word)  \n"
   ]
  },
  {
   "cell_type": "markdown",
   "metadata": {},
   "source": [
    "5.\tWrite a Python Program to Remove Punctuation From a String?"
   ]
  },
  {
   "cell_type": "code",
   "execution_count": 3,
   "metadata": {},
   "outputs": [
    {
     "name": "stdout",
     "output_type": "stream",
     "text": [
      "HelloHow are you Im fine\n"
     ]
    }
   ],
   "source": [
    "punctuations = '''!()-[]{};:'\"\\,<>./?@#$%^&*_~'''\n",
    "mystring = \"Hello,How are you? I'm fine!!\"\n",
    "mystringnew=\"\"\n",
    "for char in mystring:\n",
    "    if char not in punctuations:\n",
    "        mystringnew =mystringnew + char\n",
    "print(mystringnew)"
   ]
  },
  {
   "cell_type": "code",
   "execution_count": null,
   "metadata": {},
   "outputs": [],
   "source": []
  }
 ],
 "metadata": {
  "kernelspec": {
   "display_name": "Python 3",
   "language": "python",
   "name": "python3"
  },
  "language_info": {
   "codemirror_mode": {
    "name": "ipython",
    "version": 3
   },
   "file_extension": ".py",
   "mimetype": "text/x-python",
   "name": "python",
   "nbconvert_exporter": "python",
   "pygments_lexer": "ipython3",
   "version": "3.6.5"
  }
 },
 "nbformat": 4,
 "nbformat_minor": 2
}
