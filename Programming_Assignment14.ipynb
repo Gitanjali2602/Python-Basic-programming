{
 "cells": [
  {
   "cell_type": "markdown",
   "metadata": {},
   "source": [
    "# Programming_Assingment 14"
   ]
  },
  {
   "cell_type": "markdown",
   "metadata": {},
   "source": [
    "Que 1:\n",
    "    Define a class with a generator which can iterate the numbers, which are divisible by 7, between a given range 0 and n."
   ]
  },
  {
   "cell_type": "code",
   "execution_count": 4,
   "metadata": {},
   "outputs": [
    {
     "name": "stdout",
     "output_type": "stream",
     "text": [
      "0\n",
      "7\n",
      "14\n",
      "21\n",
      "28\n",
      "35\n",
      "42\n",
      "49\n",
      "56\n",
      "63\n"
     ]
    }
   ],
   "source": [
    "class Divisibleby7 :\n",
    "    def __init__(self,number ) :\n",
    "        for i in range(number):\n",
    "            if i % 7 ==0 :\n",
    "                print (i)   \n",
    "check_divisible = Divisibleby7(70)"
   ]
  },
  {
   "cell_type": "code",
   "execution_count": null,
   "metadata": {},
   "outputs": [],
   "source": [
    "Write a program to compute the frequency of the words from the input. The output should output after sorting the key alphanumerically. \n",
    "\n",
    "Suppose the following input is supplied to the program:\n",
    "\n",
    "New to Python or choosing between Python 2 and Python 3? Read Python 2 or Python 3.\n",
    "\n",
    "Then, the output should be:\n",
    "\n",
    "2:2\n",
    "\n",
    "3.:1\n",
    "\n",
    "3?:1\n",
    "\n",
    "New:1\n",
    "\n",
    "Python:5\n",
    "\n",
    "Read:1\n",
    "\n",
    "and:1\n",
    "\n",
    "between:1\n",
    "\n",
    "choosing:1\n",
    "\n",
    "or:2\n",
    "\n",
    "to:1\n"
   ]
  },
  {
   "cell_type": "code",
   "execution_count": 26,
   "metadata": {},
   "outputs": [
    {
     "name": "stdout",
     "output_type": "stream",
     "text": [
      "enter your inputNew to Python or choosing between Python 2 and Python 3? Read Python 2 or Python 3.\n",
      "['2', '3.', '3?', 'New', 'Python', 'Read', 'and', 'between', 'choosing', 'or', 'to']\n",
      "2 2\n",
      "3. 1\n",
      "3? 1\n",
      "New 1\n",
      "Python 5\n",
      "Read 1\n",
      "and 1\n",
      "between 1\n",
      "choosing 1\n",
      "or 2\n",
      "to 1\n"
     ]
    }
   ],
   "source": [
    "statement = input(\"enter your input\")\n",
    "words = statement.split()\n",
    "words_sorted = list(set(words))\n",
    "words_sorted.sort()\n",
    "print(words_sorted)\n",
    "for i in words_sorted:\n",
    "    print(i,words.count(i))"
   ]
  },
  {
   "cell_type": "code",
   "execution_count": 29,
   "metadata": {},
   "outputs": [
    {
     "name": "stdout",
     "output_type": "stream",
     "text": [
      "enter the statemententer your inputNew to Python or choosing between Python 2 and Python 3? Read Python 2 or Python 3.\n",
      "['2', '3.', '3?', 'New', 'Python', 'Read', 'and', 'between', 'choosing', 'or', 'to']\n",
      "2 2\n",
      "3. 1\n",
      "3? 1\n",
      "New 1\n",
      "Python 5\n",
      "Read 1\n",
      "and 1\n",
      "between 1\n",
      "choosing 1\n",
      "or 2\n",
      "to 1\n"
     ]
    }
   ],
   "source": [
    "class compute_word_freq:\n",
    "    def __init__(self,words):\n",
    "        words = statement.split()\n",
    "        words_sorted = list(set(words))\n",
    "        words_sorted.sort()\n",
    "        print(words_sorted)\n",
    "        for i in words_sorted:\n",
    "            print(i,words.count(i))\n",
    "\n",
    "word =  input(\"enter the statement\") \n",
    "compute_word_freq_1 = compute_word_freq (word)"
   ]
  },
  {
   "cell_type": "code",
   "execution_count": null,
   "metadata": {},
   "outputs": [],
   "source": [
    "Question 3:\n",
    "Define a class Person and its two child classes: Male and Female. All classes have a method \"getGender\" which can print \"Male\" for Male class and \"Female\" for Female class"
   ]
  },
  {
   "cell_type": "code",
   "execution_count": 36,
   "metadata": {},
   "outputs": [
    {
     "name": "stdout",
     "output_type": "stream",
     "text": [
      "Female\n",
      "Male\n",
      "unknown\n"
     ]
    }
   ],
   "source": [
    "class Person(object):\n",
    "    def __init__(self):\n",
    "        self.gender = \"unknown\"\n",
    "\n",
    "    def getGender(self):\n",
    "        print(self.gender)\n",
    "\n",
    "class Male(Person):\n",
    "    def __init__(self):\n",
    "        self.gender = \"Male\"\n",
    "\n",
    "class Female(Person):\n",
    "    def __init__(self):\n",
    "        self.gender = \"Female\"\n",
    "\n",
    "sharon = Female()\n",
    "doug = Male()\n",
    "gdtfdh = Person()\n",
    "sharon.getGender()\n",
    "doug.getGender()\n",
    "gdtfdh.getGender()"
   ]
  },
  {
   "cell_type": "code",
   "execution_count": null,
   "metadata": {},
   "outputs": [],
   "source": [
    "Question 4:\n",
    "Please write a program to generate all sentences where subject is in [\"I\", \"You\"] and verb is in [\"Play\", \"Love\"] and the object is in [\"Hockey\",\"Football\"]."
   ]
  },
  {
   "cell_type": "code",
   "execution_count": 42,
   "metadata": {},
   "outputs": [
    {
     "name": "stdout",
     "output_type": "stream",
     "text": [
      "I Play Hockey\n",
      "I Play Football\n",
      "I Love Hockey\n",
      "I Love Football\n",
      "You Play Hockey\n",
      "You Play Football\n",
      "You Love Hockey\n",
      "You Love Football\n"
     ]
    }
   ],
   "source": [
    "subject = [\"I\", \"You\"]\n",
    "verb = [\"Play\",\"Love\"]\n",
    "object = [\"Hockey\",\"Football\"]\n",
    "for i in subject:\n",
    "    for j in verb:\n",
    "        for k in object:\n",
    "            statement = i + \" \" + j + \" \"+ k\n",
    "            print(statement)\n"
   ]
  },
  {
   "cell_type": "markdown",
   "metadata": {},
   "source": [
    "Question 5:\n",
    "Please write a program to compress and decompress the string \"hello world!hello world!hello world!hello world!\".\n"
   ]
  },
  {
   "cell_type": "code",
   "execution_count": 53,
   "metadata": {},
   "outputs": [
    {
     "name": "stdout",
     "output_type": "stream",
     "text": [
      "b'x\\x9c\\xcbH\\xcd\\xc9\\xc9W(\\xcf/\\xcaIQ\\xcc \\x82\\r\\x00\\xbd[\\x11\\xf5'\n",
      "b'hello world!hello world!hello world!hello world!'\n"
     ]
    }
   ],
   "source": [
    "s = 'hello world!hello world!hello world!hello world!'\n",
    "# In Python 3 zlib.compress() accepts only DataType <bytes>\n",
    "y = bytes(s, 'utf-8')\n",
    "x = zlib.compress(y)\n",
    "print(x)\n",
    "print(zlib.decompress(x))"
   ]
  },
  {
   "cell_type": "markdown",
   "metadata": {},
   "source": [
    "Question 6:\n",
    "Please write a binary search function which searches an item in a sorted list. The function should return the index of element to be searched in the list.\n"
   ]
  },
  {
   "cell_type": "code",
   "execution_count": 14,
   "metadata": {},
   "outputs": [
    {
     "name": "stdout",
     "output_type": "stream",
     "text": [
      "Position for6is5\n"
     ]
    }
   ],
   "source": [
    "def BinarySearch (data,low,high,checkpositionfor):\n",
    "    if high  >= low:\n",
    "        mid = ( high + low ) // 2\n",
    "        \n",
    "        if data [mid] == checkpositionfor:\n",
    "            return mid\n",
    "        elif data[mid] > checkpositionfor:\n",
    "            return (BinarySearch(data,low,mid-1,checkpositionfor))\n",
    "        elif data[mid] < checkpositionfor:\n",
    "            return (BinarySearch ( data,mid+1,high,checkpositionfor))\n",
    "    else:\n",
    "        return -1\n",
    "    \n",
    "\n",
    "    \n",
    "data = [1,2,3,4,5,6,8,9,11,12,13]\n",
    "checkpositionfor = 6\n",
    "result = BinarySearch (data,0,len(data)-1,checkpositionfor)\n",
    "if result != -1:\n",
    "    print(\"Position for\" + str(checkpositionfor) + \"is\"+ str(result))\n",
    "else:\n",
    "    print(\"Number is NOT present in data\")\n",
    "    "
   ]
  },
  {
   "cell_type": "code",
   "execution_count": null,
   "metadata": {},
   "outputs": [],
   "source": []
  },
  {
   "cell_type": "code",
   "execution_count": null,
   "metadata": {},
   "outputs": [],
   "source": []
  }
 ],
 "metadata": {
  "kernelspec": {
   "display_name": "Python 3",
   "language": "python",
   "name": "python3"
  },
  "language_info": {
   "codemirror_mode": {
    "name": "ipython",
    "version": 3
   },
   "file_extension": ".py",
   "mimetype": "text/x-python",
   "name": "python",
   "nbconvert_exporter": "python",
   "pygments_lexer": "ipython3",
   "version": "3.6.5"
  }
 },
 "nbformat": 4,
 "nbformat_minor": 2
}
