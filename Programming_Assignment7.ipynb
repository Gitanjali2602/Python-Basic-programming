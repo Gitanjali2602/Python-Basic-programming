{
 "cells": [
  {
   "cell_type": "markdown",
   "metadata": {},
   "source": [
    "# Programming_Assingment7"
   ]
  },
  {
   "cell_type": "markdown",
   "metadata": {},
   "source": [
    "1.\tWrite a Python Program to find sum of array?"
   ]
  },
  {
   "cell_type": "code",
   "execution_count": 1,
   "metadata": {},
   "outputs": [
    {
     "name": "stdout",
     "output_type": "stream",
     "text": [
      "sum of array elements 145\n"
     ]
    }
   ],
   "source": [
    "#method 1\n",
    "a=[1,2,34,5,6,7,90]\n",
    "sum=0\n",
    "for i in range (len(a)):\n",
    "    sum = sum + a[i]\n",
    "print('sum of array elements',sum)"
   ]
  },
  {
   "cell_type": "markdown",
   "metadata": {},
   "source": [
    "2.\tWrite a Python Program to find largest element in an array?"
   ]
  },
  {
   "cell_type": "code",
   "execution_count": 3,
   "metadata": {},
   "outputs": [
    {
     "name": "stdout",
     "output_type": "stream",
     "text": [
      "90\n"
     ]
    }
   ],
   "source": [
    "a.sort()\n",
    "print(a[len(a)-1])"
   ]
  },
  {
   "cell_type": "markdown",
   "metadata": {},
   "source": [
    "3.\tWrite a Python Program for array rotation?"
   ]
  },
  {
   "cell_type": "code",
   "execution_count": 4,
   "metadata": {},
   "outputs": [
    {
     "name": "stdout",
     "output_type": "stream",
     "text": [
      "before rotation [26, 62, 94, 97, 15, 59, 47, 60, 81, 26]\n",
      "enter Number of rotation you want2\n",
      "enter 1 for left rotation and 2 for right rotation2\n",
      "10\n",
      "[81, 26, 26, 62, 94, 97, 15, 59, 47, 60]\n"
     ]
    }
   ],
   "source": [
    "def Left_Rotation (Array,RotateBy):\n",
    "    temp=[]\n",
    "    for i in range(RotateBy):\n",
    "        temp.append(Array[i])\n",
    "    for j in range(len(Array)-RotateBy):\n",
    "        Array[j]=Array[RotateBy+j]\n",
    "    Array[:] = Array[:j]+temp\n",
    "    print(Array)\n",
    "\n",
    "def Right_Rotation (Array,RotateBy):\n",
    "    print(len(Array))\n",
    "    temp=[]\n",
    "    x=RotateBy\n",
    "    for i in range(RotateBy):\n",
    "        temp.append(Array[len(Array)-x])\n",
    "        x=x-1 \n",
    "    for j in range(RotateBy,len(Array)):\n",
    "        temp.append(Array[j-RotateBy])\n",
    "    print(temp)    \n",
    "    \n",
    "import random\n",
    "Array=[]\n",
    "for i in range(10):\n",
    "    Array.append(random.randint(1,100))\n",
    "print('before rotation',Array)\n",
    "NumberOfRotation = int(input('enter Number of rotation you want'))\n",
    "rotation_side = int (input ('enter 1 for left rotation and 2 for right rotation'))\n",
    "while NumberOfRotation> len(Array):\n",
    "    NumberOfRotation = NumberOfRotation-len(Array)\n",
    "\n",
    "if rotation_side == 1:\n",
    "    Left_Rotation (Array,NumberOfRotation)\n",
    "elif rotation_side ==2:\n",
    "    Right_Rotation (Array,NumberOfRotation)"
   ]
  },
  {
   "cell_type": "markdown",
   "metadata": {},
   "source": [
    "4.\tWrite a Python Program to Split the array and add the first part to the end?"
   ]
  },
  {
   "cell_type": "code",
   "execution_count": 5,
   "metadata": {},
   "outputs": [
    {
     "name": "stdout",
     "output_type": "stream",
     "text": [
      "[28, 56, 67, 40, 97, 88, 59, 54, 59, 20]\n",
      "enter index where you want to split index3\n",
      "[40, 97, 88, 59, 54, 59, 20, 28, 56, 67]\n"
     ]
    }
   ],
   "source": [
    "import random \n",
    "Array=[]\n",
    "NewArray=[]\n",
    "for i in range(10):\n",
    "    Array.append(random.randint(1,100))\n",
    "print(Array)\n",
    "Splitat = int (input('enter index where you want to split index')) \n",
    "NewArray[:]=Array[Splitat: ]\n",
    "NewArray[len(Array)-1: ]= Array[:Splitat]\n",
    "print(NewArray)\n"
   ]
  },
  {
   "cell_type": "markdown",
   "metadata": {},
   "source": [
    "5.\tWrite a Python Program to check if given array is Monotonic?"
   ]
  },
  {
   "cell_type": "code",
   "execution_count": 6,
   "metadata": {},
   "outputs": [
    {
     "name": "stdout",
     "output_type": "stream",
     "text": [
      "True\n"
     ]
    }
   ],
   "source": [
    "def isMonotonic(A):\n",
    "    return (all(A[i] <= A[i + 1] for i in range(len(A) - 1)) or\n",
    "            all(A[i] >= A[i + 1] for i in range(len(A) - 1)))\n",
    "\n",
    "A = [6, 5, 4, 4]\n",
    "\n",
    "print(isMonotonic(A))"
   ]
  },
  {
   "cell_type": "code",
   "execution_count": null,
   "metadata": {},
   "outputs": [],
   "source": []
  }
 ],
 "metadata": {
  "kernelspec": {
   "display_name": "Python 3",
   "language": "python",
   "name": "python3"
  },
  "language_info": {
   "codemirror_mode": {
    "name": "ipython",
    "version": 3
   },
   "file_extension": ".py",
   "mimetype": "text/x-python",
   "name": "python",
   "nbconvert_exporter": "python",
   "pygments_lexer": "ipython3",
   "version": "3.6.5"
  }
 },
 "nbformat": 4,
 "nbformat_minor": 2
}
